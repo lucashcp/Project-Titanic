{
 "cells": [
  {
   "cell_type": "markdown",
   "metadata": {},
   "source": [
    "# Contexto\n",
    "\n",
    "  Talvez a tragédia mais conhecida dentro da história moderna o naufrágio do Titanic, um navio de passageiros britânicos.\n",
    "  \n",
    "  Este teve sua viagem inaugural em 10 de abril de 1912, de Southampton com destino a Nova Iorque, colidindo com um iceberg no dia 14 de abril, naufragando na madrugada do dia seguinte mudando para a sempre as regras de segurança em alto mar.\n",
    "\n",
    "# Objetivo\n",
    "\n",
    "  Este projeto tem por objetivo analisar a base de dados acerca dos sobrevivents do Titanic e confeccionar um modelo capaz de prever quem sobreviveria com certa acurácia.\n",
    "  \n",
    "  Inicialmente serão importadas todas as bibliotecas que serão utilizadas dentro do projeto.\n",
    "  \n",
    "  Estes modelos por fim farão parte de uma competição onde o objetivo é obter o modelo com a maior acurâcia possível.\n",
    "  \n",
    "  A competição funciona de forma que ao treinar um modelo este deve criar a partir de parâmetros teste a reposta para um determinado número de passageiros em um arquivo csv e a acurâcia será testada durante a competição.\n",
    "  \n",
    "# Créditos\n",
    "\n",
    "As bases de dados foram retiradas do site kaggle: https://www.kaggle.com/c/titanic\n",
    "\n",
    "- As bases de dados são dados dados sobre os passageiros como valor da passagem, sexo e classe do passageiro.\n",
    "- Temos bases de 1309 passageiros divididos em três arquivos."
   ]
  },
  {
   "cell_type": "markdown",
   "metadata": {},
   "source": [
    "# Importação de bibliotecas e dados"
   ]
  },
  {
   "cell_type": "code",
   "execution_count": 1,
   "metadata": {},
   "outputs": [],
   "source": [
    "import matplotlib.pyplot as plt\n",
    "import seaborn as sns\n",
    "import numpy as np\n",
    "import pandas as pd"
   ]
  },
  {
   "cell_type": "markdown",
   "metadata": {},
   "source": []
  },
  {
   "cell_type": "code",
   "execution_count": 2,
   "metadata": {
    "scrolled": true
   },
   "outputs": [],
   "source": [
    "sv = pd.read_csv(\"gender_submission.csv\")\n",
    "teste = pd.read_csv(\"test.csv\")\n",
    "treino = pd.read_csv(\"train.csv\")"
   ]
  },
  {
   "cell_type": "markdown",
   "metadata": {},
   "source": [
    "Juntando os dataframes de treino e teste (posteriormente estes serão separados novamente)"
   ]
  },
  {
   "cell_type": "code",
   "execution_count": 3,
   "metadata": {
    "scrolled": true
   },
   "outputs": [
    {
     "data": {
      "text/html": [
       "<div>\n",
       "<style scoped>\n",
       "    .dataframe tbody tr th:only-of-type {\n",
       "        vertical-align: middle;\n",
       "    }\n",
       "\n",
       "    .dataframe tbody tr th {\n",
       "        vertical-align: top;\n",
       "    }\n",
       "\n",
       "    .dataframe thead th {\n",
       "        text-align: right;\n",
       "    }\n",
       "</style>\n",
       "<table border=\"1\" class=\"dataframe\">\n",
       "  <thead>\n",
       "    <tr style=\"text-align: right;\">\n",
       "      <th></th>\n",
       "      <th>PassengerId</th>\n",
       "      <th>Survived</th>\n",
       "      <th>Pclass</th>\n",
       "      <th>Name</th>\n",
       "      <th>Sex</th>\n",
       "      <th>Age</th>\n",
       "      <th>SibSp</th>\n",
       "      <th>Parch</th>\n",
       "      <th>Ticket</th>\n",
       "      <th>Fare</th>\n",
       "      <th>Cabin</th>\n",
       "      <th>Embarked</th>\n",
       "      <th>treino_teste</th>\n",
       "    </tr>\n",
       "  </thead>\n",
       "  <tbody>\n",
       "    <tr>\n",
       "      <th>0</th>\n",
       "      <td>1</td>\n",
       "      <td>0.0</td>\n",
       "      <td>3</td>\n",
       "      <td>Braund, Mr. Owen Harris</td>\n",
       "      <td>male</td>\n",
       "      <td>22.0</td>\n",
       "      <td>1</td>\n",
       "      <td>0</td>\n",
       "      <td>A/5 21171</td>\n",
       "      <td>7.2500</td>\n",
       "      <td>NaN</td>\n",
       "      <td>S</td>\n",
       "      <td>1</td>\n",
       "    </tr>\n",
       "    <tr>\n",
       "      <th>1</th>\n",
       "      <td>2</td>\n",
       "      <td>1.0</td>\n",
       "      <td>1</td>\n",
       "      <td>Cumings, Mrs. John Bradley (Florence Briggs Th...</td>\n",
       "      <td>female</td>\n",
       "      <td>38.0</td>\n",
       "      <td>1</td>\n",
       "      <td>0</td>\n",
       "      <td>PC 17599</td>\n",
       "      <td>71.2833</td>\n",
       "      <td>C85</td>\n",
       "      <td>C</td>\n",
       "      <td>1</td>\n",
       "    </tr>\n",
       "    <tr>\n",
       "      <th>2</th>\n",
       "      <td>3</td>\n",
       "      <td>1.0</td>\n",
       "      <td>3</td>\n",
       "      <td>Heikkinen, Miss. Laina</td>\n",
       "      <td>female</td>\n",
       "      <td>26.0</td>\n",
       "      <td>0</td>\n",
       "      <td>0</td>\n",
       "      <td>STON/O2. 3101282</td>\n",
       "      <td>7.9250</td>\n",
       "      <td>NaN</td>\n",
       "      <td>S</td>\n",
       "      <td>1</td>\n",
       "    </tr>\n",
       "    <tr>\n",
       "      <th>3</th>\n",
       "      <td>4</td>\n",
       "      <td>1.0</td>\n",
       "      <td>1</td>\n",
       "      <td>Futrelle, Mrs. Jacques Heath (Lily May Peel)</td>\n",
       "      <td>female</td>\n",
       "      <td>35.0</td>\n",
       "      <td>1</td>\n",
       "      <td>0</td>\n",
       "      <td>113803</td>\n",
       "      <td>53.1000</td>\n",
       "      <td>C123</td>\n",
       "      <td>S</td>\n",
       "      <td>1</td>\n",
       "    </tr>\n",
       "    <tr>\n",
       "      <th>4</th>\n",
       "      <td>5</td>\n",
       "      <td>0.0</td>\n",
       "      <td>3</td>\n",
       "      <td>Allen, Mr. William Henry</td>\n",
       "      <td>male</td>\n",
       "      <td>35.0</td>\n",
       "      <td>0</td>\n",
       "      <td>0</td>\n",
       "      <td>373450</td>\n",
       "      <td>8.0500</td>\n",
       "      <td>NaN</td>\n",
       "      <td>S</td>\n",
       "      <td>1</td>\n",
       "    </tr>\n",
       "    <tr>\n",
       "      <th>...</th>\n",
       "      <td>...</td>\n",
       "      <td>...</td>\n",
       "      <td>...</td>\n",
       "      <td>...</td>\n",
       "      <td>...</td>\n",
       "      <td>...</td>\n",
       "      <td>...</td>\n",
       "      <td>...</td>\n",
       "      <td>...</td>\n",
       "      <td>...</td>\n",
       "      <td>...</td>\n",
       "      <td>...</td>\n",
       "      <td>...</td>\n",
       "    </tr>\n",
       "    <tr>\n",
       "      <th>413</th>\n",
       "      <td>1305</td>\n",
       "      <td>NaN</td>\n",
       "      <td>3</td>\n",
       "      <td>Spector, Mr. Woolf</td>\n",
       "      <td>male</td>\n",
       "      <td>NaN</td>\n",
       "      <td>0</td>\n",
       "      <td>0</td>\n",
       "      <td>A.5. 3236</td>\n",
       "      <td>8.0500</td>\n",
       "      <td>NaN</td>\n",
       "      <td>S</td>\n",
       "      <td>0</td>\n",
       "    </tr>\n",
       "    <tr>\n",
       "      <th>414</th>\n",
       "      <td>1306</td>\n",
       "      <td>NaN</td>\n",
       "      <td>1</td>\n",
       "      <td>Oliva y Ocana, Dona. Fermina</td>\n",
       "      <td>female</td>\n",
       "      <td>39.0</td>\n",
       "      <td>0</td>\n",
       "      <td>0</td>\n",
       "      <td>PC 17758</td>\n",
       "      <td>108.9000</td>\n",
       "      <td>C105</td>\n",
       "      <td>C</td>\n",
       "      <td>0</td>\n",
       "    </tr>\n",
       "    <tr>\n",
       "      <th>415</th>\n",
       "      <td>1307</td>\n",
       "      <td>NaN</td>\n",
       "      <td>3</td>\n",
       "      <td>Saether, Mr. Simon Sivertsen</td>\n",
       "      <td>male</td>\n",
       "      <td>38.5</td>\n",
       "      <td>0</td>\n",
       "      <td>0</td>\n",
       "      <td>SOTON/O.Q. 3101262</td>\n",
       "      <td>7.2500</td>\n",
       "      <td>NaN</td>\n",
       "      <td>S</td>\n",
       "      <td>0</td>\n",
       "    </tr>\n",
       "    <tr>\n",
       "      <th>416</th>\n",
       "      <td>1308</td>\n",
       "      <td>NaN</td>\n",
       "      <td>3</td>\n",
       "      <td>Ware, Mr. Frederick</td>\n",
       "      <td>male</td>\n",
       "      <td>NaN</td>\n",
       "      <td>0</td>\n",
       "      <td>0</td>\n",
       "      <td>359309</td>\n",
       "      <td>8.0500</td>\n",
       "      <td>NaN</td>\n",
       "      <td>S</td>\n",
       "      <td>0</td>\n",
       "    </tr>\n",
       "    <tr>\n",
       "      <th>417</th>\n",
       "      <td>1309</td>\n",
       "      <td>NaN</td>\n",
       "      <td>3</td>\n",
       "      <td>Peter, Master. Michael J</td>\n",
       "      <td>male</td>\n",
       "      <td>NaN</td>\n",
       "      <td>1</td>\n",
       "      <td>1</td>\n",
       "      <td>2668</td>\n",
       "      <td>22.3583</td>\n",
       "      <td>NaN</td>\n",
       "      <td>C</td>\n",
       "      <td>0</td>\n",
       "    </tr>\n",
       "  </tbody>\n",
       "</table>\n",
       "<p>1309 rows × 13 columns</p>\n",
       "</div>"
      ],
      "text/plain": [
       "     PassengerId  Survived  Pclass  \\\n",
       "0              1       0.0       3   \n",
       "1              2       1.0       1   \n",
       "2              3       1.0       3   \n",
       "3              4       1.0       1   \n",
       "4              5       0.0       3   \n",
       "..           ...       ...     ...   \n",
       "413         1305       NaN       3   \n",
       "414         1306       NaN       1   \n",
       "415         1307       NaN       3   \n",
       "416         1308       NaN       3   \n",
       "417         1309       NaN       3   \n",
       "\n",
       "                                                  Name     Sex   Age  SibSp  \\\n",
       "0                              Braund, Mr. Owen Harris    male  22.0      1   \n",
       "1    Cumings, Mrs. John Bradley (Florence Briggs Th...  female  38.0      1   \n",
       "2                               Heikkinen, Miss. Laina  female  26.0      0   \n",
       "3         Futrelle, Mrs. Jacques Heath (Lily May Peel)  female  35.0      1   \n",
       "4                             Allen, Mr. William Henry    male  35.0      0   \n",
       "..                                                 ...     ...   ...    ...   \n",
       "413                                 Spector, Mr. Woolf    male   NaN      0   \n",
       "414                       Oliva y Ocana, Dona. Fermina  female  39.0      0   \n",
       "415                       Saether, Mr. Simon Sivertsen    male  38.5      0   \n",
       "416                                Ware, Mr. Frederick    male   NaN      0   \n",
       "417                           Peter, Master. Michael J    male   NaN      1   \n",
       "\n",
       "     Parch              Ticket      Fare Cabin Embarked  treino_teste  \n",
       "0        0           A/5 21171    7.2500   NaN        S             1  \n",
       "1        0            PC 17599   71.2833   C85        C             1  \n",
       "2        0    STON/O2. 3101282    7.9250   NaN        S             1  \n",
       "3        0              113803   53.1000  C123        S             1  \n",
       "4        0              373450    8.0500   NaN        S             1  \n",
       "..     ...                 ...       ...   ...      ...           ...  \n",
       "413      0           A.5. 3236    8.0500   NaN        S             0  \n",
       "414      0            PC 17758  108.9000  C105        C             0  \n",
       "415      0  SOTON/O.Q. 3101262    7.2500   NaN        S             0  \n",
       "416      0              359309    8.0500   NaN        S             0  \n",
       "417      1                2668   22.3583   NaN        C             0  \n",
       "\n",
       "[1309 rows x 13 columns]"
      ]
     },
     "metadata": {},
     "output_type": "display_data"
    }
   ],
   "source": [
    "treino[\"treino_teste\"] = 1\n",
    "teste[\"treino_teste\"] = 0\n",
    "teste[\"Survived\"] = np.nan\n",
    "\n",
    "data_df = pd.concat([treino,teste])\n",
    "display(data_df)"
   ]
  },
  {
   "cell_type": "markdown",
   "metadata": {},
   "source": [
    "Checando quais os tipos de dados presentes nas colunas e quantas linhas sem valores existem dentro destas colunas"
   ]
  },
  {
   "cell_type": "code",
   "execution_count": 4,
   "metadata": {
    "scrolled": true
   },
   "outputs": [
    {
     "name": "stdout",
     "output_type": "stream",
     "text": [
      "PassengerId       int64\n",
      "Survived        float64\n",
      "Pclass            int64\n",
      "Name             object\n",
      "Sex              object\n",
      "Age             float64\n",
      "SibSp             int64\n",
      "Parch             int64\n",
      "Ticket           object\n",
      "Fare            float64\n",
      "Cabin            object\n",
      "Embarked         object\n",
      "treino_teste      int64\n",
      "dtype: object\n",
      "PassengerId        0\n",
      "Survived         418\n",
      "Pclass             0\n",
      "Name               0\n",
      "Sex                0\n",
      "Age              263\n",
      "SibSp              0\n",
      "Parch              0\n",
      "Ticket             0\n",
      "Fare               1\n",
      "Cabin           1014\n",
      "Embarked           2\n",
      "treino_teste       0\n",
      "dtype: int64\n"
     ]
    }
   ],
   "source": [
    "print(data_df.dtypes)\n",
    "\n",
    "print(data_df.isnull().sum())"
   ]
  },
  {
   "cell_type": "code",
   "execution_count": 5,
   "metadata": {
    "scrolled": false
   },
   "outputs": [],
   "source": [
    "#Removendo a coluna \"Cabin\", pois esta tem muitas linhas sem valores\n",
    "data_df = data_df.drop(\"Cabin\", axis = 1)"
   ]
  },
  {
   "cell_type": "markdown",
   "metadata": {},
   "source": [
    "### Análise exploratória \n",
    "\n",
    "Checando a correlação entre as colunas numericas do dataframe e em seguida analisando as colunas individualmente\n",
    "\n",
    "1. Iniciaremos através das colunas numéricas.\n",
    "2. Em seguida serão analisadas as colunas que contém texto.\n",
    "\n",
    "Também serão definidas as funções para criação de gráficos e posterior análise dos mesmos"
   ]
  },
  {
   "cell_type": "code",
   "execution_count": 6,
   "metadata": {},
   "outputs": [],
   "source": [
    "def histograma(coluna):\n",
    "    plt.figure(figsize = (10, 8))\n",
    "    sns.histplot(data =coluna,bins = 30, kde=True)\n",
    "    \n",
    "def grafico_barras(coluna):\n",
    "    plt.figure(figsize = (10,8))\n",
    "    ax = sns.barplot(x =coluna.value_counts().index ,y = coluna.value_counts())\n",
    "    \n",
    "def nulo(coluna):\n",
    "    print(f\"Existem {coluna.isnull().sum()} linhas nulas nesta coluna.\")"
   ]
  },
  {
   "cell_type": "code",
   "execution_count": 7,
   "metadata": {
    "scrolled": true
   },
   "outputs": [
    {
     "data": {
      "text/plain": [
       "<AxesSubplot:>"
      ]
     },
     "execution_count": 7,
     "metadata": {},
     "output_type": "execute_result"
    },
    {
     "data": {
      "image/png": "[encoded data removed]",
      "text/plain": [
       "<Figure size 720x576 with 2 Axes>"
      ]
     },
     "metadata": {
      "needs_background": "light"
     },
     "output_type": "display_data"
    }
   ],
   "source": [
    "n_df = data_df[[\"PassengerId\", \"Age\", \"SibSp\", \"Parch\", \"Fare\"]]\n",
    "\n",
    "fig = plt.figure(figsize = (10,8))\n",
    "sns.heatmap(n_df.corr(), annot = True, cmap = \"Greens\")"
   ]
  },
  {
   "cell_type": "markdown",
   "metadata": {},
   "source": [
    "### Análise coluna: Age"
   ]
  },
  {
   "cell_type": "code",
   "execution_count": 8,
   "metadata": {
    "scrolled": false
   },
   "outputs": [
    {
     "name": "stdout",
     "output_type": "stream",
     "text": [
      "Existem 263 linhas nulas nesta coluna.\n"
     ]
    },
    {
     "data": {
      "image/png": "[encoded data removed]",
      "text/plain": [
       "<Figure size 720x576 with 1 Axes>"
      ]
     },
     "metadata": {
      "needs_background": "light"
     },
     "output_type": "display_data"
    }
   ],
   "source": [
    "nulo(data_df[\"Age\"])\n",
    "histograma(data_df[\"Age\"])"
   ]
  },
  {
   "cell_type": "markdown",
   "metadata": {},
   "source": [
    "Como existem muitas linhas sem valores dentro desta coluna, foi optado por preencher estas pela média da coluna."
   ]
  },
  {
   "cell_type": "code",
   "execution_count": 9,
   "metadata": {},
   "outputs": [
    {
     "name": "stdout",
     "output_type": "stream",
     "text": [
      "Existem 0 linhas nulas nesta coluna.\n"
     ]
    },
    {
     "data": {
      "image/png": "[encoded data removed]",
      "text/plain": [
       "<Figure size 720x576 with 1 Axes>"
      ]
     },
     "metadata": {
      "needs_background": "light"
     },
     "output_type": "display_data"
    }
   ],
   "source": [
    "data_df[\"Age\"] = data_df[\"Age\"].fillna(data_df[\"Age\"].mean())\n",
    "nulo(data_df[\"Age\"])\n",
    "histograma(data_df[\"Age\"])"
   ]
  },
  {
   "cell_type": "markdown",
   "metadata": {},
   "source": [
    "Pode-se ver que há uma distribuição esperada dentro das idades, com uma maior incidencia entre 20 e 40 anos, dos passageiros presentes no navio, portanto não serão feitas mais mudanças dentro dessa coluna."
   ]
  },
  {
   "cell_type": "markdown",
   "metadata": {},
   "source": [
    "### Análise coluna: SibSp"
   ]
  },
  {
   "cell_type": "code",
   "execution_count": 10,
   "metadata": {},
   "outputs": [
    {
     "name": "stdout",
     "output_type": "stream",
     "text": [
      "Existem 0 linhas nulas nesta coluna.\n"
     ]
    },
    {
     "data": {
      "image/png": "[encoded data removed]",
      "text/plain": [
       "<Figure size 720x576 with 1 Axes>"
      ]
     },
     "metadata": {
      "needs_background": "light"
     },
     "output_type": "display_data"
    }
   ],
   "source": [
    "nulo(data_df[\"SibSp\"])\n",
    "histograma(data_df[\"SibSp\"])"
   ]
  },
  {
   "cell_type": "markdown",
   "metadata": {},
   "source": [
    "Como esta coluna não aparenta ter qualquer problema ou valores nulos esta será mantida assim."
   ]
  },
  {
   "cell_type": "markdown",
   "metadata": {},
   "source": [
    "### Análise coluna: Parch"
   ]
  },
  {
   "cell_type": "code",
   "execution_count": 11,
   "metadata": {},
   "outputs": [
    {
     "name": "stdout",
     "output_type": "stream",
     "text": [
      "Existem 0 linhas nulas nesta coluna.\n"
     ]
    },
    {
     "data": {
      "image/png": "[encoded data removed]",
      "text/plain": [
       "<Figure size 720x576 with 1 Axes>"
      ]
     },
     "metadata": {
      "needs_background": "light"
     },
     "output_type": "display_data"
    }
   ],
   "source": [
    "nulo(data_df[\"Parch\"])\n",
    "histograma(data_df[\"Parch\"])"
   ]
  },
  {
   "cell_type": "markdown",
   "metadata": {},
   "source": [
    "### Análise coluna: Fare"
   ]
  },
  {
   "cell_type": "code",
   "execution_count": 12,
   "metadata": {
    "scrolled": true
   },
   "outputs": [
    {
     "name": "stdout",
     "output_type": "stream",
     "text": [
      "Existem 1 linhas nulas nesta coluna.\n"
     ]
    },
    {
     "data": {
      "image/png": "[encoded data removed]",
      "text/plain": [
       "<Figure size 720x576 with 1 Axes>"
      ]
     },
     "metadata": {
      "needs_background": "light"
     },
     "output_type": "display_data"
    }
   ],
   "source": [
    "nulo(data_df[\"Fare\"])\n",
    "histograma(data_df[\"Fare\"])"
   ]
  },
  {
   "cell_type": "markdown",
   "metadata": {},
   "source": [
    "Como mo valor nulo dentro da coluna esta na tabela de teste, este foi mantido, também foi decidido colocar os valores dessa coluna em logaritimo para obter uma melhor distribuição."
   ]
  },
  {
   "cell_type": "code",
   "execution_count": 13,
   "metadata": {
    "scrolled": true
   },
   "outputs": [
    {
     "data": {
      "image/png": "[encoded data removed]",
      "text/plain": [
       "<Figure size 720x576 with 1 Axes>"
      ]
     },
     "metadata": {
      "needs_background": "light"
     },
     "output_type": "display_data"
    }
   ],
   "source": [
    "data_df[\"norm_fare\"] = np.log(data_df[\"Fare\"]+1)\n",
    "histograma(data_df[\"norm_fare\"])"
   ]
  },
  {
   "cell_type": "markdown",
   "metadata": {},
   "source": [
    "### Análise coluna: Pclass"
   ]
  },
  {
   "cell_type": "code",
   "execution_count": 14,
   "metadata": {
    "scrolled": false
   },
   "outputs": [
    {
     "name": "stdout",
     "output_type": "stream",
     "text": [
      "Existem 0 linhas nulas nesta coluna.\n"
     ]
    },
    {
     "data": {
      "image/png": "[encoded data removed]",
      "text/plain": [
       "<Figure size 720x576 with 1 Axes>"
      ]
     },
     "metadata": {
      "needs_background": "light"
     },
     "output_type": "display_data"
    }
   ],
   "source": [
    "nulo(data_df[\"Pclass\"])\n",
    "grafico_barras(data_df[\"Pclass\"])"
   ]
  },
  {
   "cell_type": "markdown",
   "metadata": {},
   "source": [
    "Esta coluna foi mantida desta forma."
   ]
  },
  {
   "cell_type": "markdown",
   "metadata": {},
   "source": [
    "### Análise coluna: Sex"
   ]
  },
  {
   "cell_type": "code",
   "execution_count": 15,
   "metadata": {
    "scrolled": false
   },
   "outputs": [
    {
     "name": "stdout",
     "output_type": "stream",
     "text": [
      "Existem 0 linhas nulas nesta coluna.\n"
     ]
    },
    {
     "data": {
      "image/png": "[encoded data removed]",
      "text/plain": [
       "<Figure size 720x576 with 1 Axes>"
      ]
     },
     "metadata": {
      "needs_background": "light"
     },
     "output_type": "display_data"
    }
   ],
   "source": [
    "nulo(data_df[\"Sex\"])\n",
    "grafico_barras(data_df[\"Sex\"])"
   ]
  },
  {
   "cell_type": "markdown",
   "metadata": {},
   "source": [
    "Esta coluna foi mantida desta forma."
   ]
  },
  {
   "cell_type": "markdown",
   "metadata": {},
   "source": [
    "### Análise coluna: Ticket"
   ]
  },
  {
   "cell_type": "code",
   "execution_count": 16,
   "metadata": {
    "scrolled": true
   },
   "outputs": [
    {
     "name": "stdout",
     "output_type": "stream",
     "text": [
      "Existem 0 linhas nulas nesta coluna.\n",
      "CA. 2343        11\n",
      "CA 2144          8\n",
      "1601             8\n",
      "PC 17608         7\n",
      "S.O.C. 14879     7\n",
      "                ..\n",
      "113792           1\n",
      "36209            1\n",
      "323592           1\n",
      "315089           1\n",
      "359309           1\n",
      "Name: Ticket, Length: 929, dtype: int64\n"
     ]
    }
   ],
   "source": [
    "nulo(data_df[\"Ticket\"])\n",
    "print(data_df[\"Ticket\"].value_counts())"
   ]
  },
  {
   "cell_type": "markdown",
   "metadata": {},
   "source": [
    "Como existem muitos tipos de tickets diferentes foi optado por dividir entre dois grupos aqueles que possuem apenas valores numéricos e aqueles possuem letras dentro da string."
   ]
  },
  {
   "cell_type": "code",
   "execution_count": 17,
   "metadata": {},
   "outputs": [
    {
     "name": "stdout",
     "output_type": "stream",
     "text": [
      "1    957\n",
      "0    352\n",
      "Name: n_ticket, dtype: int64\n"
     ]
    }
   ],
   "source": [
    "data_df[\"n_ticket\"] = data_df[\"Ticket\"].apply(lambda x : 1 if str(x).isnumeric() else 0)\n",
    "print(data_df[\"n_ticket\"].value_counts())"
   ]
  },
  {
   "cell_type": "markdown",
   "metadata": {},
   "source": [
    "### Análise coluna: Embarked"
   ]
  },
  {
   "cell_type": "code",
   "execution_count": 18,
   "metadata": {
    "scrolled": false
   },
   "outputs": [
    {
     "name": "stdout",
     "output_type": "stream",
     "text": [
      "Existem 2 linhas nulas nesta coluna.\n"
     ]
    },
    {
     "data": {
      "image/png": "[encoded data removed]",
      "text/plain": [
       "<Figure size 720x576 with 1 Axes>"
      ]
     },
     "metadata": {
      "needs_background": "light"
     },
     "output_type": "display_data"
    }
   ],
   "source": [
    "nulo(data_df[\"Embarked\"])\n",
    "grafico_barras(data_df[\"Embarked\"])"
   ]
  },
  {
   "cell_type": "markdown",
   "metadata": {},
   "source": [
    "Como há apenas 2 linhas nulas e estas estão na base de dados de treino e portanto estas serão removidas, aparte disso nada será mudado."
   ]
  },
  {
   "cell_type": "code",
   "execution_count": 19,
   "metadata": {},
   "outputs": [],
   "source": [
    "data_df.dropna(subset = [\"Embarked\"], inplace = True)"
   ]
  },
  {
   "cell_type": "markdown",
   "metadata": {},
   "source": [
    "### Análise coluna: Name"
   ]
  },
  {
   "cell_type": "code",
   "execution_count": 20,
   "metadata": {},
   "outputs": [
    {
     "name": "stdout",
     "output_type": "stream",
     "text": [
      "Existem 0 linhas nulas nesta coluna.\n"
     ]
    },
    {
     "data": {
      "text/plain": [
       "Connolly, Miss. Kate                                   2\n",
       "Kelly, Mr. James                                       2\n",
       "Braund, Mr. Owen Harris                                1\n",
       "Balkic, Mr. Cerin                                      1\n",
       "Petroff, Mr. Nedelio                                   1\n",
       "                                                      ..\n",
       "Carter, Miss. Lucile Polk                              1\n",
       "Silvey, Mr. William Baird                              1\n",
       "Kallio, Mr. Nikolai Erland                             1\n",
       "Louch, Mrs. Charles Alexander (Alice Adelaide Slow)    1\n",
       "Peter, Master. Michael J                               1\n",
       "Name: Name, Length: 1305, dtype: int64"
      ]
     },
     "execution_count": 20,
     "metadata": {},
     "output_type": "execute_result"
    }
   ],
   "source": [
    "nulo(data_df[\"Name\"])\n",
    "data_df[\"Name\"].value_counts()"
   ]
  },
  {
   "cell_type": "markdown",
   "metadata": {},
   "source": [
    "Na coluna nomes é possível notar a presença de títulos acompanhando cada nome, assim como os nomes em si provavelmente não ajudaram na confecção do modelo foi optado por criar uma nova coluna de títulos e posteriormente retirar a coluna de nomes."
   ]
  },
  {
   "cell_type": "markdown",
   "metadata": {},
   "source": [
    "### Análise coluna: Titulos"
   ]
  },
  {
   "cell_type": "code",
   "execution_count": 21,
   "metadata": {},
   "outputs": [
    {
     "data": {
      "text/plain": [
       " Mr              757\n",
       " Miss            259\n",
       " Mrs             196\n",
       " Master           61\n",
       " Rev               8\n",
       " Dr                8\n",
       " Col               4\n",
       " Mlle              2\n",
       " Major             2\n",
       " Ms                2\n",
       " Lady              1\n",
       " Sir               1\n",
       " Mme               1\n",
       " Don               1\n",
       " Capt              1\n",
       " the Countess      1\n",
       " Jonkheer          1\n",
       " Dona              1\n",
       "Name: Titulos, dtype: int64"
      ]
     },
     "metadata": {},
     "output_type": "display_data"
    }
   ],
   "source": [
    "data_df[\"Titulos\"] = data_df[\"Name\"].apply(lambda x: ((x.split(\",\"))[1].split(\".\"))[0])\n",
    "\n",
    "display(data_df[\"Titulos\"].value_counts())"
   ]
  },
  {
   "cell_type": "markdown",
   "metadata": {},
   "source": [
    "Como existem muitos títulos com um baixo número de pessoas , estes serão agrupados em uma mesma categoria."
   ]
  },
  {
   "cell_type": "code",
   "execution_count": 22,
   "metadata": {
    "scrolled": false
   },
   "outputs": [
    {
     "data": {
      "image/png": "[encoded data removed]",
      "text/plain": [
       "<Figure size 720x576 with 1 Axes>"
      ]
     },
     "metadata": {
      "needs_background": "light"
     },
     "output_type": "display_data"
    }
   ],
   "source": [
    "Outros = []\n",
    "\n",
    "for tipo in data_df[\"Titulos\"].value_counts().index:\n",
    "    if data_df[\"Titulos\"].value_counts()[tipo] < 10:\n",
    "        Outros.append(tipo)\n",
    "\n",
    "for tipo in Outros:\n",
    "    data_df.loc[data_df[\"Titulos\"] == tipo, \"Titulos\"] = \"Outros\"\n",
    "    \n",
    "grafico_barras(data_df[\"Titulos\"])"
   ]
  },
  {
   "cell_type": "markdown",
   "metadata": {},
   "source": [
    "## Analisando as colunas modificadas"
   ]
  },
  {
   "cell_type": "code",
   "execution_count": 23,
   "metadata": {},
   "outputs": [
    {
     "name": "stdout",
     "output_type": "stream",
     "text": [
      "Index(['PassengerId', 'Survived', 'Pclass', 'Name', 'Sex', 'Age', 'SibSp',\n",
      "       'Parch', 'Ticket', 'Fare', 'Embarked', 'treino_teste', 'norm_fare',\n",
      "       'n_ticket', 'Titulos'],\n",
      "      dtype='object')\n"
     ]
    }
   ],
   "source": [
    "print(data_df.columns)"
   ]
  },
  {
   "cell_type": "markdown",
   "metadata": {},
   "source": [
    "Com a lista de colunas em mão serão removidas aquelas que não parecem fazer sentido dentro do modelo, sendo elas:\n",
    "\n",
    "1. PassengerId - O Id dos passageiros não aparenta ser um fator determinante dentro de uma analise de sobreviventes\n",
    "2. Ticket - Foram usados os casos onde haviam e não haviam letras dentro da classificação do ticket, aparte disso as informações dadas por esta coluna não parecem muito úteis\n",
    "3. Name - O nome dos passageiros em si não apresenta relevância dentro do modelo, contudo foram usados os títulos presentes nesta coluna na formação do modelo\n",
    "4. Fare - Foi criada uma coluna com os valores desta modificados como foi especificado na análise desta coluna, assim esta não será utilizada\n"
   ]
  },
  {
   "cell_type": "code",
   "execution_count": 24,
   "metadata": {
    "scrolled": true
   },
   "outputs": [
    {
     "name": "stdout",
     "output_type": "stream",
     "text": [
      "Index(['Survived', 'Pclass', 'Sex', 'Age', 'SibSp', 'Parch', 'Embarked',\n",
      "       'treino_teste', 'norm_fare', 'n_ticket', 'Titulos'],\n",
      "      dtype='object')\n"
     ]
    }
   ],
   "source": [
    "data_df = data_df.drop(['PassengerId', 'Name', 'Ticket', \"Fare\"], axis = 1)\n",
    "print(data_df.columns)"
   ]
  },
  {
   "cell_type": "markdown",
   "metadata": {},
   "source": [
    "### Modificando colunas de categorias"
   ]
  },
  {
   "cell_type": "markdown",
   "metadata": {},
   "source": [
    "Após retirar as colunas indesejadas, as colunas divididas em categorias serão tranformadas em colunas dummies, sendo os valores da coluna \"Pclass\" sendo tranformados em string para que isso seja possível."
   ]
  },
  {
   "cell_type": "code",
   "execution_count": 25,
   "metadata": {},
   "outputs": [],
   "source": [
    "data_df[\"Pclass\"] = data_df[\"Pclass\"].apply(lambda x: str(x))"
   ]
  },
  {
   "cell_type": "code",
   "execution_count": 26,
   "metadata": {},
   "outputs": [],
   "source": [
    "dummies_df = pd.get_dummies(data_df[['Pclass', 'Sex', 'Age', 'SibSp', 'Parch', 'Embarked','treino_teste', 'norm_fare', 'n_ticket', 'Titulos']])"
   ]
  },
  {
   "cell_type": "markdown",
   "metadata": {},
   "source": [
    "Com as colunas já divididas em dummies, agora dividiremos novamente os dataframes de teste e treino."
   ]
  },
  {
   "cell_type": "code",
   "execution_count": 27,
   "metadata": {
    "scrolled": true
   },
   "outputs": [
    {
     "data": {
      "text/plain": [
       "(889,)"
      ]
     },
     "execution_count": 27,
     "metadata": {},
     "output_type": "execute_result"
    }
   ],
   "source": [
    "X_teste = dummies_df[dummies_df[\"treino_teste\"] == 0].drop(\"treino_teste\",axis = 1)\n",
    "X_treino = dummies_df[dummies_df[\"treino_teste\"] == 1].drop(\"treino_teste\",axis = 1)\n",
    "\n",
    "y_treino = data_df[data_df[\"treino_teste\"] == 1].Survived\n",
    "y_treino.shape"
   ]
  },
  {
   "cell_type": "code",
   "execution_count": 28,
   "metadata": {},
   "outputs": [
    {
     "data": {
      "text/plain": [
       "0    1000\n",
       "1     170\n",
       "2     113\n",
       "3       8\n",
       "5       6\n",
       "4       6\n",
       "6       2\n",
       "9       2\n",
       "Name: Parch, dtype: int64"
      ]
     },
     "metadata": {},
     "output_type": "display_data"
    }
   ],
   "source": [
    "display(dummies_df[\"Parch\"].value_counts())"
   ]
  },
  {
   "cell_type": "markdown",
   "metadata": {},
   "source": [
    "### Escalonando os dados"
   ]
  },
  {
   "cell_type": "code",
   "execution_count": 29,
   "metadata": {
    "scrolled": false
   },
   "outputs": [],
   "source": [
    "from sklearn.preprocessing import StandardScaler\n",
    "\n",
    "scaler = StandardScaler()\n",
    "dummies_scaled = dummies_df.copy()\n",
    "dummies_scaled[['Age', 'SibSp', 'Parch', 'norm_fare']] = scaler.fit_transform(dummies_scaled[['Age', 'SibSp', 'Parch', 'norm_fare']])"
   ]
  },
  {
   "cell_type": "code",
   "execution_count": 30,
   "metadata": {},
   "outputs": [
    {
     "data": {
      "text/plain": [
       "Index(['Age', 'SibSp', 'Parch', 'treino_teste', 'norm_fare', 'n_ticket',\n",
       "       'Pclass_1', 'Pclass_2', 'Pclass_3', 'Sex_female', 'Sex_male',\n",
       "       'Embarked_C', 'Embarked_Q', 'Embarked_S', 'Titulos_ Master',\n",
       "       'Titulos_ Miss', 'Titulos_ Mr', 'Titulos_ Mrs', 'Titulos_Outros'],\n",
       "      dtype='object')"
      ]
     },
     "execution_count": 30,
     "metadata": {},
     "output_type": "execute_result"
    }
   ],
   "source": [
    "dummies_scaled.columns"
   ]
  },
  {
   "cell_type": "code",
   "execution_count": 31,
   "metadata": {},
   "outputs": [],
   "source": [
    "X_teste_scaled = dummies_scaled[dummies_scaled[\"treino_teste\"] == 0].drop(\"treino_teste\",axis = 1)\n",
    "X_treino_scaled = dummies_scaled[dummies_scaled[\"treino_teste\"] == 1].drop(\"treino_teste\",axis = 1)\n",
    "\n",
    "y_treino_scaled = data_df[data_df[\"treino_teste\"] == 1].Survived"
   ]
  },
  {
   "cell_type": "markdown",
   "metadata": {},
   "source": [
    "### Importando modelos de previsão\n",
    "\n",
    "Os modelos testados serão:\n",
    "- Gaussian NB\n",
    "- Logistic Regression\n",
    "- Decision Tree\n",
    "- KNeighbors\n",
    "- Random Forest"
   ]
  },
  {
   "cell_type": "code",
   "execution_count": 32,
   "metadata": {},
   "outputs": [],
   "source": [
    "from sklearn.model_selection import cross_val_score\n",
    "from sklearn.naive_bayes import GaussianNB\n",
    "from sklearn.linear_model import LogisticRegression\n",
    "from sklearn import tree\n",
    "from sklearn.neighbors import KNeighborsClassifier\n",
    "from sklearn.ensemble import RandomForestClassifier"
   ]
  },
  {
   "cell_type": "markdown",
   "metadata": {},
   "source": [
    "### Testando Cross_val_score dos modelos escolhidos\n",
    "\n",
    "A função Cross_val_score é uma função no pacote scikit-learn que treina e testa um modelo em várias dobras do seu conjunto de dados. Este método de validação cruzada fornece uma compreensão melhor do desempenho do modelo em todo o conjunto de dados, em vez de apenas uma única divisão de treinamento/teste.\n",
    "Usaremos este método para testar todos os modelos 5 vezes e depois obter a média entre eles."
   ]
  },
  {
   "cell_type": "markdown",
   "metadata": {},
   "source": [
    "### Logistic Regression"
   ]
  },
  {
   "cell_type": "code",
   "execution_count": 33,
   "metadata": {},
   "outputs": [
    {
     "name": "stdout",
     "output_type": "stream",
     "text": [
      "[0.8258427  0.81460674 0.80337079 0.80337079 0.86440678]\n",
      "0.8223195581793945\n"
     ]
    }
   ],
   "source": [
    "lr = LogisticRegression(max_iter = 2000)\n",
    "cv = cross_val_score(lr, X_treino_scaled,y_treino, cv = 5)\n",
    "print(cv)\n",
    "print(cv.mean())"
   ]
  },
  {
   "cell_type": "markdown",
   "metadata": {},
   "source": [
    "### Gaussian NB"
   ]
  },
  {
   "cell_type": "code",
   "execution_count": 34,
   "metadata": {
    "scrolled": false
   },
   "outputs": [
    {
     "name": "stdout",
     "output_type": "stream",
     "text": [
      "[0.76966292 0.80337079 0.78651685 0.76966292 0.83050847]\n",
      "0.7919443915444677\n"
     ]
    }
   ],
   "source": [
    "gnb = GaussianNB()\n",
    "cv = cross_val_score(gnb,X_treino_scaled, y_treino, cv=5)\n",
    "print(cv)\n",
    "print(cv.mean())"
   ]
  },
  {
   "cell_type": "markdown",
   "metadata": {},
   "source": [
    "### Decision Tree"
   ]
  },
  {
   "cell_type": "code",
   "execution_count": 35,
   "metadata": {
    "scrolled": true
   },
   "outputs": [
    {
     "name": "stdout",
     "output_type": "stream",
     "text": [
      "[0.74157303 0.76966292 0.84831461 0.74157303 0.74576271]\n",
      "0.769377261474005\n"
     ]
    }
   ],
   "source": [
    "dt = tree.DecisionTreeClassifier(random_state = 1)\n",
    "cv = cross_val_score(dt, X_treino_scaled, y_treino, cv = 5)\n",
    "print(cv)\n",
    "print(cv.mean())"
   ]
  },
  {
   "cell_type": "markdown",
   "metadata": {},
   "source": [
    "### KNeighbors "
   ]
  },
  {
   "cell_type": "code",
   "execution_count": 36,
   "metadata": {},
   "outputs": [
    {
     "name": "stdout",
     "output_type": "stream",
     "text": [
      "[0.78651685 0.79775281 0.82022472 0.80898876 0.8079096 ]\n",
      "0.8042785501174381\n"
     ]
    }
   ],
   "source": [
    "kn = KNeighborsClassifier()\n",
    "cv = cross_val_score(kn, X_treino_scaled, y_treino, cv = 5)\n",
    "print(cv)\n",
    "print(cv.mean())"
   ]
  },
  {
   "cell_type": "markdown",
   "metadata": {},
   "source": [
    "### Random Forest"
   ]
  },
  {
   "cell_type": "code",
   "execution_count": 37,
   "metadata": {},
   "outputs": [
    {
     "name": "stdout",
     "output_type": "stream",
     "text": [
      "[0.81460674 0.79213483 0.85955056 0.74719101 0.82485876]\n",
      "0.8076683806259126\n"
     ]
    }
   ],
   "source": [
    "rf = RandomForestClassifier(random_state = 1)\n",
    "cv = cross_val_score(rf, X_treino_scaled, y_treino, cv = 5)\n",
    "print(cv)\n",
    "print(cv.mean())"
   ]
  },
  {
   "cell_type": "markdown",
   "metadata": {},
   "source": [
    "Com estes testes notou-se que o modelo de maior sucesso foi o de logistic regression, porém serão todos os modelos testados e posteriormente enviados a competição para melhor testar sua acurâcia.\n",
    "Agora serão criadas as variáveis de treino e teste."
   ]
  },
  {
   "cell_type": "code",
   "execution_count": 38,
   "metadata": {},
   "outputs": [],
   "source": [
    "X_treino1 = X_treino_scaled.copy().fillna(-1)\n",
    "y_treino1 = y_treino.copy().fillna(-1)\n",
    "X_teste1 = X_teste_scaled.copy().fillna(-1)"
   ]
  },
  {
   "cell_type": "markdown",
   "metadata": {},
   "source": [
    "Com as variáveis de treino e teste criadas faremos o teste final em cada modelo além de criar os arquivos em csv com as respostas final de cada modelo."
   ]
  },
  {
   "cell_type": "markdown",
   "metadata": {},
   "source": [
    "### Modelo Logistic Regression"
   ]
  },
  {
   "cell_type": "code",
   "execution_count": 39,
   "metadata": {},
   "outputs": [],
   "source": [
    "lr.fit(X_treino1, y_treino1)\n",
    "p2 = lr.predict(X_teste1).astype(int)\n",
    "\n",
    "df = {\"PassengerId\" : sv[\"PassengerId\"], \"Survived\":p2}\n",
    "df3 = pd.DataFrame(data = df)\n",
    "\n",
    "df3.to_csv(\"submissaolr.csv\", index = False)"
   ]
  },
  {
   "cell_type": "markdown",
   "metadata": {},
   "source": [
    "### Modelo Decision Tree"
   ]
  },
  {
   "cell_type": "code",
   "execution_count": 40,
   "metadata": {},
   "outputs": [],
   "source": [
    "dt.fit(X_treino1,y_treino1)\n",
    "p3 = dt.predict(X_teste1).astype(int)\n",
    "\n",
    "df = {\"PassengerId\" : sv[\"PassengerId\"], \"Survived\":p3}\n",
    "df4 = pd.DataFrame(data = df)\n",
    "\n",
    "df4.to_csv(\"submissaodt.csv\", index = False)"
   ]
  },
  {
   "cell_type": "markdown",
   "metadata": {},
   "source": [
    "### Modelo KNeighbors"
   ]
  },
  {
   "cell_type": "code",
   "execution_count": 41,
   "metadata": {
    "scrolled": true
   },
   "outputs": [],
   "source": [
    "kn.fit(X_treino1, y_treino1)\n",
    "p4 = kn.predict(X_teste1).astype(int)\n",
    "\n",
    "kn_df = {\"PassengerId\": sv[\"PassengerId\"], \"Survived\": p4}\n",
    "kn_df1 = pd.DataFrame(data = kn_df)\n",
    "\n",
    "kn_df1.to_csv(\"submissaokn.csv\", index = False)"
   ]
  },
  {
   "cell_type": "markdown",
   "metadata": {},
   "source": [
    "### Modelo Random Forest"
   ]
  },
  {
   "cell_type": "code",
   "execution_count": 42,
   "metadata": {},
   "outputs": [],
   "source": [
    "rf.fit(X_treino1, y_treino1)\n",
    "p5 = rf.predict(X_teste1).astype(int)\n",
    "\n",
    "df = {\"PassengerId\": sv[\"PassengerId\"], \"Survived\":p5}\n",
    "rf_df = pd.DataFrame(data = df)\n",
    "\n",
    "rf_df.to_csv(\"submissaorf.csv\", index = False)"
   ]
  },
  {
   "cell_type": "markdown",
   "metadata": {},
   "source": [
    "### Modelo Gaussian NB"
   ]
  },
  {
   "cell_type": "code",
   "execution_count": 43,
   "metadata": {},
   "outputs": [],
   "source": [
    "gnb.fit(X_treino1, y_treino1)\n",
    "p = gnb.predict(X_teste1)\n",
    "\n",
    "df = {\"PassengerId\": sv[\"PassengerId\"], \"Survived\":p}\n",
    "gnb_df = pd.DataFrame(data = df)\n",
    "\n",
    "gnb_df.to_csv(\"submissaognb.csv\", index = False)"
   ]
  },
  {
   "cell_type": "markdown",
   "metadata": {},
   "source": [
    "Com isso terminasse o projeto e os arquivos podem ser enviados para a competição."
   ]
  }
 ],
 "metadata": {
  "kernelspec": {
   "display_name": "Python 3 (ipykernel)",
   "language": "python",
   "name": "python3"
  },
  "language_info": {
   "codemirror_mode": {
    "name": "ipython",
    "version": 3
   },
   "file_extension": ".py",
   "mimetype": "text/x-python",
   "name": "python",
   "nbconvert_exporter": "python",
   "pygments_lexer": "ipython3",
   "version": "3.9.7"
  }
 },
 "nbformat": 4,
 "nbformat_minor": 4
}
